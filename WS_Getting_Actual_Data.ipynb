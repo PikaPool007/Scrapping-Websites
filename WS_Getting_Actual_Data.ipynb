{
 "cells": [
  {
   "attachments": {},
   "cell_type": "markdown",
   "metadata": {},
   "source": [
    "## Getting actual data from the website www.howstat.com"
   ]
  },
  {
   "cell_type": "code",
   "execution_count": 18,
   "metadata": {},
   "outputs": [],
   "source": [
    "import pandas as pd\n",
    "import requests\n",
    "from bs4 import BeautifulSoup\n",
    "import numpy as np\n",
    "import re"
   ]
  },
  {
   "cell_type": "code",
   "execution_count": 2,
   "metadata": {},
   "outputs": [],
   "source": [
    "base_url = \"http://howstat.com/cricket/Statistics/IPL/PlayerList.asp\""
   ]
  },
  {
   "cell_type": "code",
   "execution_count": 3,
   "metadata": {},
   "outputs": [
    {
     "data": {
      "text/plain": [
       "<Response [200]>"
      ]
     },
     "execution_count": 3,
     "metadata": {},
     "output_type": "execute_result"
    }
   ],
   "source": [
    "get_base_url = requests.get(base_url)\n",
    "get_base_url"
   ]
  },
  {
   "cell_type": "code",
   "execution_count": 5,
   "metadata": {},
   "outputs": [],
   "source": [
    "base_soup = BeautifulSoup(get_base_url.text, \"html.parser\")"
   ]
  },
  {
   "cell_type": "code",
   "execution_count": 78,
   "metadata": {},
   "outputs": [],
   "source": [
    "player_data_in_one_color_1 = base_soup.findAll(\"tr\",{\"bgcolor\":\"#FFFFFF\"})"
   ]
  },
  {
   "cell_type": "code",
   "execution_count": 73,
   "metadata": {},
   "outputs": [],
   "source": [
    "dict = {\"Name\":[],\"Teams\":[],\"Matches\":[],\"Runs\":[],\"Bat Avg\":[],\"Wickets\":[],\"Bowl Avg\":[]}"
   ]
  },
  {
   "cell_type": "code",
   "execution_count": 74,
   "metadata": {},
   "outputs": [
    {
     "data": {
      "text/plain": [
       "7"
      ]
     },
     "execution_count": 74,
     "metadata": {},
     "output_type": "execute_result"
    }
   ],
   "source": [
    "keys = list(dict.keys())\n",
    "len(keys)"
   ]
  },
  {
   "cell_type": "code",
   "execution_count": 75,
   "metadata": {},
   "outputs": [
    {
     "name": "stdout",
     "output_type": "stream",
     "text": [
      "329\n",
      "329\n",
      "329\n",
      "329\n",
      "329\n",
      "329\n",
      "329\n"
     ]
    }
   ],
   "source": [
    "for single in player_data_in_one_color_1:\n",
    "    text = single.text\n",
    "    text = re.sub('\\n', '', text)\n",
    "    text = re.sub('\\t', '', text)\n",
    "    text = text.split('\\r')\n",
    "    text = [i for i in text if i]    \n",
    "    for i in range(len(text)):\n",
    "        if(text[i] == '\\xa0'):\n",
    "            dict[keys[i]].append(\"\")\n",
    "        else:\n",
    "            dict[keys[i]].append(text[i])\n",
    "print(len(dict['Name']))\n",
    "print(len(dict['Teams']))\n",
    "print(len(dict['Matches']))\n",
    "print(len(dict['Runs']))\n",
    "print(len(dict['Bat Avg']))\n",
    "print(len(dict['Wickets']))\n",
    "print(len(dict['Bowl Avg']))"
   ]
  },
  {
   "cell_type": "code",
   "execution_count": 77,
   "metadata": {},
   "outputs": [],
   "source": [
    "player_data_in_one_color_2 = base_soup.findAll(\"tr\",{\"bgcolor\":\"#E3FBE9\"})"
   ]
  },
  {
   "cell_type": "code",
   "execution_count": 79,
   "metadata": {},
   "outputs": [
    {
     "name": "stdout",
     "output_type": "stream",
     "text": [
      "657\n",
      "657\n",
      "657\n",
      "657\n",
      "657\n",
      "657\n",
      "657\n"
     ]
    }
   ],
   "source": [
    "for single in player_data_in_one_color_2:\n",
    "    text = single.text\n",
    "    text = re.sub('\\n', '', text)\n",
    "    text = re.sub('\\t', '', text)\n",
    "    text = text.split('\\r')\n",
    "    text = [i for i in text if i]    \n",
    "    for i in range(len(text)):\n",
    "        if(text[i] == '\\xa0'):\n",
    "            dict[keys[i]].append(\"\")\n",
    "        else:\n",
    "            dict[keys[i]].append(text[i])\n",
    "print(len(dict['Name']))\n",
    "print(len(dict['Teams']))\n",
    "print(len(dict['Matches']))\n",
    "print(len(dict['Runs']))\n",
    "print(len(dict['Bat Avg']))\n",
    "print(len(dict['Wickets']))\n",
    "print(len(dict['Bowl Avg']))"
   ]
  },
  {
   "cell_type": "code",
   "execution_count": 80,
   "metadata": {},
   "outputs": [],
   "source": [
    "df = pd.DataFrame.from_dict(dict)"
   ]
  },
  {
   "cell_type": "code",
   "execution_count": 81,
   "metadata": {},
   "outputs": [
    {
     "data": {
      "text/html": [
       "<div>\n",
       "<style scoped>\n",
       "    .dataframe tbody tr th:only-of-type {\n",
       "        vertical-align: middle;\n",
       "    }\n",
       "\n",
       "    .dataframe tbody tr th {\n",
       "        vertical-align: top;\n",
       "    }\n",
       "\n",
       "    .dataframe thead th {\n",
       "        text-align: right;\n",
       "    }\n",
       "</style>\n",
       "<table border=\"1\" class=\"dataframe\">\n",
       "  <thead>\n",
       "    <tr style=\"text-align: right;\">\n",
       "      <th></th>\n",
       "      <th>Name</th>\n",
       "      <th>Teams</th>\n",
       "      <th>Matches</th>\n",
       "      <th>Runs</th>\n",
       "      <th>Bat Avg</th>\n",
       "      <th>Wickets</th>\n",
       "      <th>Bowl Avg</th>\n",
       "    </tr>\n",
       "  </thead>\n",
       "  <tbody>\n",
       "    <tr>\n",
       "      <th>0</th>\n",
       "      <td>V R Aaron</td>\n",
       "      <td>DDV, RCB, KXI, RRO, GTI</td>\n",
       "      <td>52</td>\n",
       "      <td>50</td>\n",
       "      <td>10.00</td>\n",
       "      <td>44</td>\n",
       "      <td>33.66</td>\n",
       "    </tr>\n",
       "    <tr>\n",
       "      <th>1</th>\n",
       "      <td>S A Abbott</td>\n",
       "      <td>RCB, SUN</td>\n",
       "      <td>3</td>\n",
       "      <td>22</td>\n",
       "      <td>7.33</td>\n",
       "      <td>1</td>\n",
       "      <td>104.00</td>\n",
       "    </tr>\n",
       "    <tr>\n",
       "      <th>2</th>\n",
       "      <td>Y A Abdulla</td>\n",
       "      <td>KXI</td>\n",
       "      <td>11</td>\n",
       "      <td>0</td>\n",
       "      <td></td>\n",
       "      <td>15</td>\n",
       "      <td>20.47</td>\n",
       "    </tr>\n",
       "    <tr>\n",
       "      <th>3</th>\n",
       "      <td>Abhishek Sharma</td>\n",
       "      <td>DDV, SUN</td>\n",
       "      <td>36</td>\n",
       "      <td>667</td>\n",
       "      <td>23.82</td>\n",
       "      <td>7</td>\n",
       "      <td>30.57</td>\n",
       "    </tr>\n",
       "    <tr>\n",
       "      <th>4</th>\n",
       "      <td>A B Agarkar</td>\n",
       "      <td>KKR, DDV</td>\n",
       "      <td>42</td>\n",
       "      <td>179</td>\n",
       "      <td>17.90</td>\n",
       "      <td>29</td>\n",
       "      <td>39.69</td>\n",
       "    </tr>\n",
       "    <tr>\n",
       "      <th>...</th>\n",
       "      <td>...</td>\n",
       "      <td>...</td>\n",
       "      <td>...</td>\n",
       "      <td>...</td>\n",
       "      <td>...</td>\n",
       "      <td>...</td>\n",
       "      <td>...</td>\n",
       "    </tr>\n",
       "    <tr>\n",
       "      <th>652</th>\n",
       "      <td>S A Yadav</td>\n",
       "      <td>MIN, KKR</td>\n",
       "      <td>123</td>\n",
       "      <td>2644</td>\n",
       "      <td>30.05</td>\n",
       "      <td>0</td>\n",
       "      <td></td>\n",
       "    </tr>\n",
       "    <tr>\n",
       "      <th>653</th>\n",
       "      <td>D H  Yagnik</td>\n",
       "      <td>RRO</td>\n",
       "      <td>25</td>\n",
       "      <td>170</td>\n",
       "      <td>17.00</td>\n",
       "      <td>0</td>\n",
       "      <td></td>\n",
       "    </tr>\n",
       "    <tr>\n",
       "      <th>654</th>\n",
       "      <td>V S  Yeligati</td>\n",
       "      <td>MIN</td>\n",
       "      <td>2</td>\n",
       "      <td>2</td>\n",
       "      <td>2.00</td>\n",
       "      <td>0</td>\n",
       "      <td></td>\n",
       "    </tr>\n",
       "    <tr>\n",
       "      <th>655</th>\n",
       "      <td>Yuvraj Singh</td>\n",
       "      <td>KXI, PWI, RCB, DDV, SUN, MIN</td>\n",
       "      <td>132</td>\n",
       "      <td>2750</td>\n",
       "      <td>24.77</td>\n",
       "      <td>36</td>\n",
       "      <td>29.92</td>\n",
       "    </tr>\n",
       "    <tr>\n",
       "      <th>656</th>\n",
       "      <td>V H  Zol</td>\n",
       "      <td>RCB</td>\n",
       "      <td>3</td>\n",
       "      <td>29</td>\n",
       "      <td>14.50</td>\n",
       "      <td>0</td>\n",
       "      <td></td>\n",
       "    </tr>\n",
       "  </tbody>\n",
       "</table>\n",
       "<p>657 rows × 7 columns</p>\n",
       "</div>"
      ],
      "text/plain": [
       "                Name                         Teams Matches  Runs Bat Avg  \\\n",
       "0          V R Aaron       DDV, RCB, KXI, RRO, GTI      52    50   10.00   \n",
       "1         S A Abbott                      RCB, SUN       3    22    7.33   \n",
       "2        Y A Abdulla                           KXI      11     0           \n",
       "3    Abhishek Sharma                      DDV, SUN      36   667   23.82   \n",
       "4        A B Agarkar                      KKR, DDV      42   179   17.90   \n",
       "..               ...                           ...     ...   ...     ...   \n",
       "652        S A Yadav                      MIN, KKR     123  2644   30.05   \n",
       "653      D H  Yagnik                           RRO      25   170   17.00   \n",
       "654    V S  Yeligati                           MIN       2     2    2.00   \n",
       "655     Yuvraj Singh  KXI, PWI, RCB, DDV, SUN, MIN     132  2750   24.77   \n",
       "656         V H  Zol                           RCB       3    29   14.50   \n",
       "\n",
       "    Wickets Bowl Avg  \n",
       "0        44    33.66  \n",
       "1         1   104.00  \n",
       "2        15    20.47  \n",
       "3         7    30.57  \n",
       "4        29    39.69  \n",
       "..      ...      ...  \n",
       "652       0           \n",
       "653       0           \n",
       "654       0           \n",
       "655      36    29.92  \n",
       "656       0           \n",
       "\n",
       "[657 rows x 7 columns]"
      ]
     },
     "execution_count": 81,
     "metadata": {},
     "output_type": "execute_result"
    }
   ],
   "source": [
    "df"
   ]
  },
  {
   "cell_type": "code",
   "execution_count": 84,
   "metadata": {},
   "outputs": [],
   "source": [
    "for i in keys:\n",
    "    df[i].replace('0',np.nan,inplace=True)"
   ]
  },
  {
   "cell_type": "code",
   "execution_count": 85,
   "metadata": {},
   "outputs": [
    {
     "data": {
      "text/html": [
       "<div>\n",
       "<style scoped>\n",
       "    .dataframe tbody tr th:only-of-type {\n",
       "        vertical-align: middle;\n",
       "    }\n",
       "\n",
       "    .dataframe tbody tr th {\n",
       "        vertical-align: top;\n",
       "    }\n",
       "\n",
       "    .dataframe thead th {\n",
       "        text-align: right;\n",
       "    }\n",
       "</style>\n",
       "<table border=\"1\" class=\"dataframe\">\n",
       "  <thead>\n",
       "    <tr style=\"text-align: right;\">\n",
       "      <th></th>\n",
       "      <th>Name</th>\n",
       "      <th>Teams</th>\n",
       "      <th>Matches</th>\n",
       "      <th>Runs</th>\n",
       "      <th>Bat Avg</th>\n",
       "      <th>Wickets</th>\n",
       "      <th>Bowl Avg</th>\n",
       "    </tr>\n",
       "  </thead>\n",
       "  <tbody>\n",
       "    <tr>\n",
       "      <th>0</th>\n",
       "      <td>V R Aaron</td>\n",
       "      <td>DDV, RCB, KXI, RRO, GTI</td>\n",
       "      <td>52</td>\n",
       "      <td>50</td>\n",
       "      <td>10.00</td>\n",
       "      <td>44</td>\n",
       "      <td>33.66</td>\n",
       "    </tr>\n",
       "    <tr>\n",
       "      <th>1</th>\n",
       "      <td>S A Abbott</td>\n",
       "      <td>RCB, SUN</td>\n",
       "      <td>3</td>\n",
       "      <td>22</td>\n",
       "      <td>7.33</td>\n",
       "      <td>1</td>\n",
       "      <td>104.00</td>\n",
       "    </tr>\n",
       "    <tr>\n",
       "      <th>2</th>\n",
       "      <td>Y A Abdulla</td>\n",
       "      <td>KXI</td>\n",
       "      <td>11</td>\n",
       "      <td>NaN</td>\n",
       "      <td>NaN</td>\n",
       "      <td>15</td>\n",
       "      <td>20.47</td>\n",
       "    </tr>\n",
       "    <tr>\n",
       "      <th>3</th>\n",
       "      <td>Abhishek Sharma</td>\n",
       "      <td>DDV, SUN</td>\n",
       "      <td>36</td>\n",
       "      <td>667</td>\n",
       "      <td>23.82</td>\n",
       "      <td>7</td>\n",
       "      <td>30.57</td>\n",
       "    </tr>\n",
       "    <tr>\n",
       "      <th>4</th>\n",
       "      <td>A B Agarkar</td>\n",
       "      <td>KKR, DDV</td>\n",
       "      <td>42</td>\n",
       "      <td>179</td>\n",
       "      <td>17.90</td>\n",
       "      <td>29</td>\n",
       "      <td>39.69</td>\n",
       "    </tr>\n",
       "    <tr>\n",
       "      <th>...</th>\n",
       "      <td>...</td>\n",
       "      <td>...</td>\n",
       "      <td>...</td>\n",
       "      <td>...</td>\n",
       "      <td>...</td>\n",
       "      <td>...</td>\n",
       "      <td>...</td>\n",
       "    </tr>\n",
       "    <tr>\n",
       "      <th>652</th>\n",
       "      <td>S A Yadav</td>\n",
       "      <td>MIN, KKR</td>\n",
       "      <td>123</td>\n",
       "      <td>2644</td>\n",
       "      <td>30.05</td>\n",
       "      <td>NaN</td>\n",
       "      <td>NaN</td>\n",
       "    </tr>\n",
       "    <tr>\n",
       "      <th>653</th>\n",
       "      <td>D H  Yagnik</td>\n",
       "      <td>RRO</td>\n",
       "      <td>25</td>\n",
       "      <td>170</td>\n",
       "      <td>17.00</td>\n",
       "      <td>NaN</td>\n",
       "      <td>NaN</td>\n",
       "    </tr>\n",
       "    <tr>\n",
       "      <th>654</th>\n",
       "      <td>V S  Yeligati</td>\n",
       "      <td>MIN</td>\n",
       "      <td>2</td>\n",
       "      <td>2</td>\n",
       "      <td>2.00</td>\n",
       "      <td>NaN</td>\n",
       "      <td>NaN</td>\n",
       "    </tr>\n",
       "    <tr>\n",
       "      <th>655</th>\n",
       "      <td>Yuvraj Singh</td>\n",
       "      <td>KXI, PWI, RCB, DDV, SUN, MIN</td>\n",
       "      <td>132</td>\n",
       "      <td>2750</td>\n",
       "      <td>24.77</td>\n",
       "      <td>36</td>\n",
       "      <td>29.92</td>\n",
       "    </tr>\n",
       "    <tr>\n",
       "      <th>656</th>\n",
       "      <td>V H  Zol</td>\n",
       "      <td>RCB</td>\n",
       "      <td>3</td>\n",
       "      <td>29</td>\n",
       "      <td>14.50</td>\n",
       "      <td>NaN</td>\n",
       "      <td>NaN</td>\n",
       "    </tr>\n",
       "  </tbody>\n",
       "</table>\n",
       "<p>657 rows × 7 columns</p>\n",
       "</div>"
      ],
      "text/plain": [
       "                Name                         Teams Matches  Runs Bat Avg  \\\n",
       "0          V R Aaron       DDV, RCB, KXI, RRO, GTI      52    50   10.00   \n",
       "1         S A Abbott                      RCB, SUN       3    22    7.33   \n",
       "2        Y A Abdulla                           KXI      11   NaN     NaN   \n",
       "3    Abhishek Sharma                      DDV, SUN      36   667   23.82   \n",
       "4        A B Agarkar                      KKR, DDV      42   179   17.90   \n",
       "..               ...                           ...     ...   ...     ...   \n",
       "652        S A Yadav                      MIN, KKR     123  2644   30.05   \n",
       "653      D H  Yagnik                           RRO      25   170   17.00   \n",
       "654    V S  Yeligati                           MIN       2     2    2.00   \n",
       "655     Yuvraj Singh  KXI, PWI, RCB, DDV, SUN, MIN     132  2750   24.77   \n",
       "656         V H  Zol                           RCB       3    29   14.50   \n",
       "\n",
       "    Wickets Bowl Avg  \n",
       "0        44    33.66  \n",
       "1         1   104.00  \n",
       "2        15    20.47  \n",
       "3         7    30.57  \n",
       "4        29    39.69  \n",
       "..      ...      ...  \n",
       "652     NaN      NaN  \n",
       "653     NaN      NaN  \n",
       "654     NaN      NaN  \n",
       "655      36    29.92  \n",
       "656     NaN      NaN  \n",
       "\n",
       "[657 rows x 7 columns]"
      ]
     },
     "execution_count": 85,
     "metadata": {},
     "output_type": "execute_result"
    }
   ],
   "source": [
    "df"
   ]
  },
  {
   "cell_type": "code",
   "execution_count": 86,
   "metadata": {},
   "outputs": [],
   "source": [
    "df.to_csv('IPL All Player Data.csv', index=False)"
   ]
  },
  {
   "cell_type": "code",
   "execution_count": null,
   "metadata": {},
   "outputs": [],
   "source": []
  }
 ],
 "metadata": {
  "kernelspec": {
   "display_name": "base",
   "language": "python",
   "name": "python3"
  },
  "language_info": {
   "codemirror_mode": {
    "name": "ipython",
    "version": 3
   },
   "file_extension": ".py",
   "mimetype": "text/x-python",
   "name": "python",
   "nbconvert_exporter": "python",
   "pygments_lexer": "ipython3",
   "version": "3.9.13 (main, Aug 25 2022, 23:51:50) [MSC v.1916 64 bit (AMD64)]"
  },
  "orig_nbformat": 4,
  "vscode": {
   "interpreter": {
    "hash": "3869c986616e19c586f6de0373b83d9cf6b8bffb273a9d41bd2bb5127aea3dd7"
   }
  }
 },
 "nbformat": 4,
 "nbformat_minor": 2
}
