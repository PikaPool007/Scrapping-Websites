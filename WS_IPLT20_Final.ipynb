{
 "cells": [
  {
   "attachments": {},
   "cell_type": "markdown",
   "metadata": {},
   "source": [
    "## Learning to get data from different websites"
   ]
  },
  {
   "cell_type": "code",
   "execution_count": 23,
   "metadata": {},
   "outputs": [],
   "source": [
    "import pandas as pd\n",
    "import requests\n",
    "from bs4 import BeautifulSoup\n",
    "import numpy as np"
   ]
  },
  {
   "attachments": {},
   "cell_type": "markdown",
   "metadata": {},
   "source": [
    "#### Getting the main URL"
   ]
  },
  {
   "cell_type": "code",
   "execution_count": 2,
   "metadata": {},
   "outputs": [],
   "source": [
    "url = \"https://www.iplt20.com/teams/\""
   ]
  },
  {
   "attachments": {},
   "cell_type": "markdown",
   "metadata": {},
   "source": [
    "#### Making the team URLs"
   ]
  },
  {
   "cell_type": "code",
   "execution_count": 3,
   "metadata": {},
   "outputs": [
    {
     "data": {
      "text/plain": [
       "['https://www.iplt20.com/teams/chennai-super-kings/squad',\n",
       " 'https://www.iplt20.com/teams/delhi-capitals/squad',\n",
       " 'https://www.iplt20.com/teams/gujarat-titans/squad',\n",
       " 'https://www.iplt20.com/teams/kolkata-knight-riders/squad',\n",
       " 'https://www.iplt20.com/teams/lucknow-super-giants/squad',\n",
       " 'https://www.iplt20.com/teams/mumbai-indians/squad',\n",
       " 'https://www.iplt20.com/teams/punjab-kings/squad',\n",
       " 'https://www.iplt20.com/teams/rajasthan-royals/squad',\n",
       " 'https://www.iplt20.com/teams/royal-challengers-bangalore/squad',\n",
       " 'https://www.iplt20.com/teams/sunrisers-hyderabad/squad']"
      ]
     },
     "execution_count": 3,
     "metadata": {},
     "output_type": "execute_result"
    }
   ],
   "source": [
    "teams = [\"chennai-super-kings\",\"delhi-capitals\",\"gujarat-titans\",\"kolkata-knight-riders\",\"lucknow-super-giants\",\"mumbai-indians\",\"punjab-kings\",\"rajasthan-royals\",\"royal-challengers-bangalore\",\"sunrisers-hyderabad\"]\n",
    "\n",
    "teams_url = []\n",
    "for t in teams:\n",
    "    team_url = url + t + \"/squad\"\n",
    "    teams_url.append(team_url)\n",
    "\n",
    "teams_url"
   ]
  },
  {
   "attachments": {},
   "cell_type": "markdown",
   "metadata": {},
   "source": [
    "#### Creating a dictionary which contains the data for now."
   ]
  },
  {
   "cell_type": "code",
   "execution_count": 17,
   "metadata": {},
   "outputs": [],
   "source": [
    "dict = {\"Name\":[],\"Role\":[],\"Batting Style\":[],\"Bowling Style\":[],\"Nationality\":[],\"DOB\":[],\"IPL Debut\":[]}"
   ]
  },
  {
   "attachments": {},
   "cell_type": "markdown",
   "metadata": {},
   "source": [
    "#### Defining functions for the different data we need"
   ]
  },
  {
   "cell_type": "code",
   "execution_count": 5,
   "metadata": {},
   "outputs": [],
   "source": [
    "def get_role(soup):\n",
    "    \n",
    "    details_in_tags = soup.find('div', {'class': 'ih-td-bbot'})\n",
    "    details_in_tags = details_in_tags.find_all('h2')\n",
    "    details = [i.text for i in details_in_tags]\n",
    "    res = \"\"\n",
    "    for s in details:\n",
    "        if(s.split(':')[0].strip() == 'Role'):\n",
    "            res = s.split(':')[1].strip()\n",
    "        else:\n",
    "            continue\n",
    "    return res"
   ]
  },
  {
   "cell_type": "code",
   "execution_count": 6,
   "metadata": {},
   "outputs": [],
   "source": [
    "def get_batting_style(soup):\n",
    "    \n",
    "    details_in_tags = soup.find('div', {'class': 'ih-td-bbot'})\n",
    "    details_in_tags = details_in_tags.find_all('h2')\n",
    "    details = [i.text for i in details_in_tags]\n",
    "    res = \"\"\n",
    "    for s in details:\n",
    "        if(s.split(':')[0].strip() == 'Batting Style'):\n",
    "            res = s.split(':')[1].strip()\n",
    "        else:\n",
    "            continue\n",
    "    return res"
   ]
  },
  {
   "cell_type": "code",
   "execution_count": 7,
   "metadata": {},
   "outputs": [],
   "source": [
    "def get_bowling_style(soup):\n",
    "    \n",
    "    details_in_tags = soup.find('div', {'class': 'ih-td-bbot'})\n",
    "    details_in_tags = details_in_tags.find_all('h2')\n",
    "    details = [i.text for i in details_in_tags]\n",
    "    res = \"\"\n",
    "    for s in details:\n",
    "        if(s.split(':')[0].strip() == 'Bowling Style'):\n",
    "            res = s.split(':')[1].strip()\n",
    "        else:\n",
    "            continue\n",
    "    return res"
   ]
  },
  {
   "cell_type": "code",
   "execution_count": 8,
   "metadata": {},
   "outputs": [],
   "source": [
    "def get_nationality(soup):\n",
    "    \n",
    "    details_in_tags = soup.find('div', {'class': 'ih-td-bbot'})\n",
    "    details_in_tags = details_in_tags.find_all('h2')\n",
    "    details = [i.text for i in details_in_tags]\n",
    "    res = \"\"\n",
    "    for s in details:\n",
    "        if(s.split(':')[0].strip() == 'Nationality'):\n",
    "            res = s.split(':')[1].strip()\n",
    "        else:\n",
    "            continue\n",
    "    return res"
   ]
  },
  {
   "cell_type": "code",
   "execution_count": 9,
   "metadata": {},
   "outputs": [],
   "source": [
    "def get_dob(soup):\n",
    "    \n",
    "    details_in_tags = soup.find('div', {'class': 'ih-td-bbot'})\n",
    "    details_in_tags = details_in_tags.find_all('h2')\n",
    "    details = [i.text for i in details_in_tags]\n",
    "    res = \"\"\n",
    "    for s in details:\n",
    "        if(s.split(':')[0].strip() == 'DOB'):\n",
    "            res = s.split(':')[1].strip()\n",
    "        else:\n",
    "            continue\n",
    "    return res"
   ]
  },
  {
   "cell_type": "code",
   "execution_count": 10,
   "metadata": {},
   "outputs": [],
   "source": [
    "def get_ipl_debut(soup):\n",
    "    \n",
    "    details_in_tags = soup.find('div', {'class': 'ih-td-bbot'})\n",
    "    details_in_tags = details_in_tags.find_all('h2')\n",
    "    details = [i.text for i in details_in_tags]\n",
    "    res = \"\"\n",
    "    for s in details:\n",
    "        if(s.split(':')[0].strip() == 'IPL Debut'):\n",
    "            res = s.split(':')[1].strip()\n",
    "        else:\n",
    "            continue\n",
    "    return res"
   ]
  },
  {
   "attachments": {},
   "cell_type": "markdown",
   "metadata": {},
   "source": [
    "#### Running a for loop on the teams_url to get the players URL and then extracting data from there"
   ]
  },
  {
   "cell_type": "code",
   "execution_count": 19,
   "metadata": {},
   "outputs": [],
   "source": [
    "for url in teams_url:\n",
    "\n",
    "    get_squad_url = requests.get(url)\n",
    "    squad_soup = BeautifulSoup(get_squad_url.text,'html.parser')\n",
    "    \n",
    "    player_links = squad_soup.findAll('div',{'class' : 'ih-vp-btn'})\n",
    "    player_links = [i.find('a').get('href') for i in player_links]\n",
    "\n",
    "    for p in player_links:\n",
    "        get_player_url = requests.get(p)\n",
    "        player_soup = BeautifulSoup(get_player_url.text,\"html.parser\")\n",
    "        name_in_tag = player_soup.find('div',{'class' : 'ih-td-n'})\n",
    "        details_in_tags = player_soup.find('div',{'class' : 'ih-td-bbot'})\n",
    "        details_in_tags = details_in_tags.find_all('h2')\n",
    "        details = [i.text for i in details_in_tags]\n",
    "        if(len(details) == 6):\n",
    "            dict['Name'].append(name_in_tag.find('h3').text.strip())\n",
    "            for s in details:\n",
    "                dict[s.split(':')[0].strip()].append(s.split(':')[1].strip())\n",
    "        else:\n",
    "            dict['Name'].append(name_in_tag.find('h3').text.strip())\n",
    "            dict['Role'].append(get_role(player_soup))\n",
    "            dict['Batting Style'].append(get_batting_style(player_soup))\n",
    "            dict['Bowling Style'].append(get_bowling_style(player_soup))\n",
    "            dict['Nationality'].append(get_nationality(player_soup))\n",
    "            dict['DOB'].append(get_dob(player_soup))\n",
    "            dict['IPL Debut'].append(get_ipl_debut(player_soup))\n",
    "        "
   ]
  },
  {
   "cell_type": "code",
   "execution_count": 20,
   "metadata": {},
   "outputs": [
    {
     "name": "stdout",
     "output_type": "stream",
     "text": [
      "243\n",
      "243\n",
      "243\n",
      "243\n",
      "243\n",
      "243\n",
      "243\n"
     ]
    }
   ],
   "source": [
    "print(len(dict['Name']))\n",
    "print(len(dict['Role']))\n",
    "print(len(dict['Batting Style']))\n",
    "print(len(dict['Bowling Style']))\n",
    "print(len(dict['Nationality']))\n",
    "print(len(dict['DOB']))\n",
    "print(len(dict['IPL Debut']))"
   ]
  },
  {
   "attachments": {},
   "cell_type": "markdown",
   "metadata": {},
   "source": [
    "#### Converting dictionary to Pandas dataframe"
   ]
  },
  {
   "cell_type": "code",
   "execution_count": 21,
   "metadata": {},
   "outputs": [],
   "source": [
    "df = pd.DataFrame.from_dict(dict)"
   ]
  },
  {
   "cell_type": "code",
   "execution_count": 22,
   "metadata": {},
   "outputs": [
    {
     "data": {
      "text/html": [
       "<div>\n",
       "<style scoped>\n",
       "    .dataframe tbody tr th:only-of-type {\n",
       "        vertical-align: middle;\n",
       "    }\n",
       "\n",
       "    .dataframe tbody tr th {\n",
       "        vertical-align: top;\n",
       "    }\n",
       "\n",
       "    .dataframe thead th {\n",
       "        text-align: right;\n",
       "    }\n",
       "</style>\n",
       "<table border=\"1\" class=\"dataframe\">\n",
       "  <thead>\n",
       "    <tr style=\"text-align: right;\">\n",
       "      <th></th>\n",
       "      <th>Name</th>\n",
       "      <th>Role</th>\n",
       "      <th>Batting Style</th>\n",
       "      <th>Bowling Style</th>\n",
       "      <th>Nationality</th>\n",
       "      <th>DOB</th>\n",
       "      <th>IPL Debut</th>\n",
       "    </tr>\n",
       "  </thead>\n",
       "  <tbody>\n",
       "    <tr>\n",
       "      <th>0</th>\n",
       "      <td>MS Dhoni</td>\n",
       "      <td>Wicketkeeper Batter</td>\n",
       "      <td>Right-handed</td>\n",
       "      <td>Right-arm Medium</td>\n",
       "      <td>Indian</td>\n",
       "      <td>07 July 1981</td>\n",
       "      <td>2008</td>\n",
       "    </tr>\n",
       "    <tr>\n",
       "      <th>1</th>\n",
       "      <td>Devon Conway</td>\n",
       "      <td>WK-Batsman</td>\n",
       "      <td>Left-handed</td>\n",
       "      <td>Right-arm Medium</td>\n",
       "      <td>South African</td>\n",
       "      <td>08 July 1991</td>\n",
       "      <td></td>\n",
       "    </tr>\n",
       "    <tr>\n",
       "      <th>2</th>\n",
       "      <td>Ruturaj Gaikwad</td>\n",
       "      <td>Batter</td>\n",
       "      <td>Right-handed</td>\n",
       "      <td>N/A</td>\n",
       "      <td>Indian</td>\n",
       "      <td>31 January 1997</td>\n",
       "      <td></td>\n",
       "    </tr>\n",
       "    <tr>\n",
       "      <th>3</th>\n",
       "      <td>Subhranshu Senapati</td>\n",
       "      <td>Batter</td>\n",
       "      <td>Left-handed</td>\n",
       "      <td>Right-arm Medium</td>\n",
       "      <td>Indian</td>\n",
       "      <td>30 December 1996</td>\n",
       "      <td></td>\n",
       "    </tr>\n",
       "    <tr>\n",
       "      <th>4</th>\n",
       "      <td>Ambati Rayudu</td>\n",
       "      <td>Wicketkeeper Batter</td>\n",
       "      <td>Right-handed</td>\n",
       "      <td>Right-arm Off-spin</td>\n",
       "      <td>Indian</td>\n",
       "      <td>23 September 1985</td>\n",
       "      <td>2010</td>\n",
       "    </tr>\n",
       "    <tr>\n",
       "      <th>...</th>\n",
       "      <td>...</td>\n",
       "      <td>...</td>\n",
       "      <td>...</td>\n",
       "      <td>...</td>\n",
       "      <td>...</td>\n",
       "      <td>...</td>\n",
       "      <td>...</td>\n",
       "    </tr>\n",
       "    <tr>\n",
       "      <th>238</th>\n",
       "      <td>Mayank Dagar</td>\n",
       "      <td>All-rounder</td>\n",
       "      <td>Right-handed</td>\n",
       "      <td>N/A</td>\n",
       "      <td>Indian</td>\n",
       "      <td>11 November 1996</td>\n",
       "      <td></td>\n",
       "    </tr>\n",
       "    <tr>\n",
       "      <th>239</th>\n",
       "      <td>Samarth Vyas</td>\n",
       "      <td>All-Rounder</td>\n",
       "      <td>Right-handed</td>\n",
       "      <td>Right Arm Leg Spin</td>\n",
       "      <td>Indian</td>\n",
       "      <td>28 November 1995</td>\n",
       "      <td></td>\n",
       "    </tr>\n",
       "    <tr>\n",
       "      <th>240</th>\n",
       "      <td>Sanvir Singh</td>\n",
       "      <td>All-Rounder</td>\n",
       "      <td>Right-handed</td>\n",
       "      <td>Right Arm Fast</td>\n",
       "      <td>Indian</td>\n",
       "      <td>12 October 1996</td>\n",
       "      <td></td>\n",
       "    </tr>\n",
       "    <tr>\n",
       "      <th>241</th>\n",
       "      <td>Upendra Singh Yadav</td>\n",
       "      <td>Wicketkeeper</td>\n",
       "      <td>Right-handed</td>\n",
       "      <td>N/A</td>\n",
       "      <td>Indian</td>\n",
       "      <td>08 October 1996</td>\n",
       "      <td></td>\n",
       "    </tr>\n",
       "    <tr>\n",
       "      <th>242</th>\n",
       "      <td>Nitish Kumar Reddy</td>\n",
       "      <td>Wicketkeeper</td>\n",
       "      <td>Right-handed</td>\n",
       "      <td>Right Arm Fast Medium</td>\n",
       "      <td>Indian</td>\n",
       "      <td>26 May 2003</td>\n",
       "      <td></td>\n",
       "    </tr>\n",
       "  </tbody>\n",
       "</table>\n",
       "<p>243 rows × 7 columns</p>\n",
       "</div>"
      ],
      "text/plain": [
       "                    Name                 Role Batting Style  \\\n",
       "0               MS Dhoni  Wicketkeeper Batter  Right-handed   \n",
       "1           Devon Conway           WK-Batsman   Left-handed   \n",
       "2        Ruturaj Gaikwad               Batter  Right-handed   \n",
       "3    Subhranshu Senapati               Batter   Left-handed   \n",
       "4          Ambati Rayudu  Wicketkeeper Batter  Right-handed   \n",
       "..                   ...                  ...           ...   \n",
       "238         Mayank Dagar          All-rounder  Right-handed   \n",
       "239         Samarth Vyas          All-Rounder  Right-handed   \n",
       "240         Sanvir Singh          All-Rounder  Right-handed   \n",
       "241  Upendra Singh Yadav         Wicketkeeper  Right-handed   \n",
       "242   Nitish Kumar Reddy         Wicketkeeper  Right-handed   \n",
       "\n",
       "             Bowling Style    Nationality                DOB IPL Debut  \n",
       "0         Right-arm Medium         Indian       07 July 1981      2008  \n",
       "1         Right-arm Medium  South African       08 July 1991            \n",
       "2                      N/A         Indian    31 January 1997            \n",
       "3         Right-arm Medium         Indian   30 December 1996            \n",
       "4       Right-arm Off-spin         Indian  23 September 1985      2010  \n",
       "..                     ...            ...                ...       ...  \n",
       "238                    N/A         Indian   11 November 1996            \n",
       "239     Right Arm Leg Spin         Indian   28 November 1995            \n",
       "240         Right Arm Fast         Indian    12 October 1996            \n",
       "241                    N/A         Indian    08 October 1996            \n",
       "242  Right Arm Fast Medium         Indian        26 May 2003            \n",
       "\n",
       "[243 rows x 7 columns]"
      ]
     },
     "execution_count": 22,
     "metadata": {},
     "output_type": "execute_result"
    }
   ],
   "source": [
    "df"
   ]
  },
  {
   "cell_type": "code",
   "execution_count": 27,
   "metadata": {},
   "outputs": [],
   "source": [
    "df['Role'].replace('',np.nan,inplace=True)\n",
    "df['Batting Style'].replace('',np.nan,inplace=True)\n",
    "df['Bowling Style'].replace('N/A',np.nan,inplace=True)\n",
    "df['DOB'].replace('',np.nan,inplace=True)\n",
    "df['Nationality'].replace('',np.nan,inplace=True)\n",
    "df['IPL Debut'].replace('',np.nan,inplace=True)"
   ]
  },
  {
   "cell_type": "code",
   "execution_count": 30,
   "metadata": {},
   "outputs": [
    {
     "data": {
      "text/plain": [
       "Name             243\n",
       "Role             237\n",
       "Batting Style    243\n",
       "Bowling Style    202\n",
       "Nationality      243\n",
       "DOB              243\n",
       "IPL Debut        101\n",
       "dtype: int64"
      ]
     },
     "execution_count": 30,
     "metadata": {},
     "output_type": "execute_result"
    }
   ],
   "source": [
    "df.count()"
   ]
  },
  {
   "cell_type": "code",
   "execution_count": 31,
   "metadata": {},
   "outputs": [],
   "source": [
    "df.to_csv('IPL Data.csv', index=False)"
   ]
  },
  {
   "cell_type": "code",
   "execution_count": null,
   "metadata": {},
   "outputs": [],
   "source": []
  }
 ],
 "metadata": {
  "kernelspec": {
   "display_name": "base",
   "language": "python",
   "name": "python3"
  },
  "language_info": {
   "codemirror_mode": {
    "name": "ipython",
    "version": 3
   },
   "file_extension": ".py",
   "mimetype": "text/x-python",
   "name": "python",
   "nbconvert_exporter": "python",
   "pygments_lexer": "ipython3",
   "version": "3.9.13 (main, Aug 25 2022, 23:51:50) [MSC v.1916 64 bit (AMD64)]"
  },
  "orig_nbformat": 4,
  "vscode": {
   "interpreter": {
    "hash": "3869c986616e19c586f6de0373b83d9cf6b8bffb273a9d41bd2bb5127aea3dd7"
   }
  }
 },
 "nbformat": 4,
 "nbformat_minor": 2
}
